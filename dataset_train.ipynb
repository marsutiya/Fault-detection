{
 "cells": [
  {
   "cell_type": "code",
   "execution_count": 1,
   "metadata": {},
   "outputs": [],
   "source": [
    "from sklearn import tree\n",
    "import numpy as np"
   ]
  },
  {
   "cell_type": "code",
   "execution_count": 2,
   "metadata": {},
   "outputs": [
    {
     "name": "stdout",
     "output_type": "stream",
     "text": [
      "69.12\n"
     ]
    }
   ],
   "source": [
    "clf=tree.DecisionTreeClassifier()\n",
    "f=open('training.csv','r')\n",
    "data=f.readlines()\n",
    "datax=[]\n",
    "datay=[]\n",
    "for i in data:\n",
    "    line=i.split(',')\n",
    "    temp=line[0:6]\n",
    "    dataxreadline=[]\n",
    "    for j in temp:\n",
    "        dataxreadline.append(float(j))\n",
    "    datax.append(dataxreadline)\n",
    "    datayreadline= float(line[6])\n",
    "    datay.append(datayreadline)\n",
    "clf.fit(datax,datay)\n",
    "f=open('testingset.csv','r')\n",
    "data=f.readlines()\n",
    "datax=[]\n",
    "datay=[]\n",
    "for i in data:\n",
    "    line = i.split(',')\n",
    "    temp=line[0:6]\n",
    "    dataxreadline=[]\n",
    "    for j in temp:\n",
    "        dataxreadline.append(float(j))\n",
    "    datax.append(dataxreadline)\n",
    "    datayreadline= float(line[6])\n",
    "    datay.append(datayreadline)\n",
    "testy=clf.predict(datax)\n",
    "valid=testy==datay\n",
    "total=np.ones_like(datay)\n",
    "total=np.sum(total)\n",
    "correct=np.sum(valid)\n",
    "accuracy=(100.0*correct)/total\n",
    "print(accuracy)\n",
    "\n",
    "        \n",
    "        "
   ]
  },
  {
   "cell_type": "code",
   "execution_count": 3,
   "metadata": {},
   "outputs": [],
   "source": [
    "import matplotlib.pyplot as plt"
   ]
  },
  {
   "cell_type": "code",
   "execution_count": 10,
   "metadata": {},
   "outputs": [],
   "source": [
    "#fig = plt.figure()\n",
    "#ax1=fig.add_subplot(111)\n",
    "#ax1.scatter(range(1,621),testy,s=1,c=\"b\",markers=\"s\",labels='real')\n",
    "#plt.show()"
   ]
  },
  {
   "cell_type": "code",
   "execution_count": 11,
   "metadata": {},
   "outputs": [
    {
     "data": {
      "text/plain": [
       "0.3088"
      ]
     },
     "execution_count": 11,
     "metadata": {},
     "output_type": "execute_result"
    }
   ],
   "source": [
    "from sklearn.metrics import mean_squared_error\n",
    "mean_squared_error(datay,testy)"
   ]
  },
  {
   "cell_type": "code",
   "execution_count": 12,
   "metadata": {},
   "outputs": [],
   "source": [
    "from sklearn import svm"
   ]
  },
  {
   "cell_type": "code",
   "execution_count": 13,
   "metadata": {},
   "outputs": [],
   "source": [
    "f=open('training.csv','r')\n",
    "data=f.readlines()\n",
    "datax=[]\n",
    "datay=[]\n",
    "for i in data:\n",
    "    line=i.split(',')\n",
    "    temp=line[0:6]\n",
    "    dataxreadline=[]\n",
    "    for j in temp:\n",
    "        dataxreadline.append(float(j))\n",
    "    datax.append(dataxreadline)\n",
    "    datayreadline= float(line[6])\n",
    "    datay.append(datayreadline)\n",
    "clf.fit(datax,datay)\n",
    "f=open('testingset.csv','r')\n",
    "data=f.readlines()\n",
    "datax=[]\n",
    "datay=[]\n",
    "for i in data:\n",
    "    line = i.split(',')\n",
    "    temp=line[0:6]\n",
    "    dataxreadline=[]\n",
    "    for j in temp:\n",
    "        dataxreadline.append(float(j))\n",
    "    datax.append(dataxreadline)\n",
    "    datayreadline= float(line[6])\n",
    "    datay.append(datayreadline)"
   ]
  },
  {
   "cell_type": "code",
   "execution_count": 14,
   "metadata": {},
   "outputs": [
    {
     "name": "stdout",
     "output_type": "stream",
     "text": [
      "69.36\n"
     ]
    }
   ],
   "source": [
    "import numpy as np\n",
    "testy=clf.predict(datax)\n",
    "valid=testy==datay\n",
    "total=np.ones_like(datay)\n",
    "total=np.sum(total)\n",
    "correct=np.sum(valid)\n",
    "accuracy=(100.0*correct)/total\n",
    "print(accuracy)"
   ]
  },
  {
   "cell_type": "code",
   "execution_count": 16,
   "metadata": {},
   "outputs": [],
   "source": [
    "from sklearn.neighbors import KNeighborsClassifier"
   ]
  },
  {
   "cell_type": "code",
   "execution_count": 17,
   "metadata": {},
   "outputs": [],
   "source": [
    "f=open('training.csv','r')\n",
    "data=f.readlines()\n",
    "datax=[]\n",
    "datay=[]\n",
    "for i in data:\n",
    "    line=i.split(',')\n",
    "    temp=line[0:6]\n",
    "    dataxreadline=[]\n",
    "    for j in temp:\n",
    "        dataxreadline.append(float(j))\n",
    "    datax.append(dataxreadline)\n",
    "    datayreadline= float(line[6])\n",
    "    datay.append(datayreadline)\n",
    "\n",
    "clf=KNeighborsClassifier()    \n",
    "clf.fit(datax,datay)\n",
    "f=open('testingset.csv','r')\n",
    "data=f.readlines()\n",
    "datax=[]\n",
    "datay=[]\n",
    "for i in data:\n",
    "    line = i.split(',')\n",
    "    temp=line[0:6]\n",
    "    dataxreadline=[]\n",
    "    for j in temp:\n",
    "        dataxreadline.append(float(j))\n",
    "    datax.append(dataxreadline)\n",
    "    datayreadline= float(line[6])\n",
    "    datay.append(datayreadline)"
   ]
  },
  {
   "cell_type": "code",
   "execution_count": 18,
   "metadata": {},
   "outputs": [
    {
     "name": "stdout",
     "output_type": "stream",
     "text": [
      "74.8\n"
     ]
    }
   ],
   "source": [
    "import numpy as np\n",
    "testy=clf.predict(datax)\n",
    "valid=testy==datay\n",
    "total=np.ones_like(datay)\n",
    "total=np.sum(total)\n",
    "correct=np.sum(valid)\n",
    "accuracy=(100.0*correct)/total\n",
    "print(accuracy)"
   ]
  },
  {
   "cell_type": "code",
   "execution_count": 22,
   "metadata": {},
   "outputs": [
    {
     "data": {
      "text/plain": [
       "0.252"
      ]
     },
     "execution_count": 22,
     "metadata": {},
     "output_type": "execute_result"
    }
   ],
   "source": [
    "from sklearn.metrics import mean_squared_error\n",
    "mean_squared_error(datay,testy)"
   ]
  },
  {
   "cell_type": "code",
   "execution_count": 23,
   "metadata": {},
   "outputs": [],
   "source": [
    "from sklearn.neural_network import MLPClassifier\n",
    "import numpy as np"
   ]
  },
  {
   "cell_type": "code",
   "execution_count": 25,
   "metadata": {},
   "outputs": [
    {
     "name": "stdout",
     "output_type": "stream",
     "text": [
      "74.8\n"
     ]
    }
   ],
   "source": [
    "clf=MLPClassifier(hidden_layer_sizes=(100, ))\n",
    "f=open('training.csv','r')\n",
    "data=f.readlines()\n",
    "datax=[]\n",
    "datay=[]\n",
    "for i in data:\n",
    "    line=i.split(',')\n",
    "    temp=line[0:6]\n",
    "    dataxreadline=[]\n",
    "    for j in temp:\n",
    "        dataxreadline.append(float(j))\n",
    "    datax.append(dataxreadline)\n",
    "    datayreadline= float(line[6])\n",
    "    datay.append(datayreadline)\n",
    "\n",
    "clf=KNeighborsClassifier()    \n",
    "clf.fit(datax,datay)\n",
    "f=open('testingset.csv','r')\n",
    "data=f.readlines()\n",
    "datax=[]\n",
    "datay=[]\n",
    "for i in data:\n",
    "    line = i.split(',')\n",
    "    temp=line[0:6]\n",
    "    dataxreadline=[]\n",
    "    for j in temp:\n",
    "        dataxreadline.append(float(j))\n",
    "    datax.append(dataxreadline)\n",
    "    datayreadline= float(line[6])\n",
    "    datay.append(datayreadline)\n",
    "import numpy as np\n",
    "testy=clf.predict(datax)\n",
    "valid=testy==datay\n",
    "total=np.ones_like(datay)\n",
    "total=np.sum(total)\n",
    "correct=np.sum(valid)\n",
    "accuracy=(100.0*correct)/total\n",
    "print(accuracy)"
   ]
  },
  {
   "cell_type": "code",
   "execution_count": null,
   "metadata": {},
   "outputs": [],
   "source": []
  }
 ],
 "metadata": {
  "kernelspec": {
   "display_name": "Python 3",
   "language": "python",
   "name": "python3"
  },
  "language_info": {
   "codemirror_mode": {
    "name": "ipython",
    "version": 3
   },
   "file_extension": ".py",
   "mimetype": "text/x-python",
   "name": "python",
   "nbconvert_exporter": "python",
   "pygments_lexer": "ipython3",
   "version": "3.7.3"
  }
 },
 "nbformat": 4,
 "nbformat_minor": 2
}
